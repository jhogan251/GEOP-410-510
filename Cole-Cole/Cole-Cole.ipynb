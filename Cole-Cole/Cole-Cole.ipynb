{
 "cells": [
  {
   "cell_type": "code",
   "execution_count": 2,
   "metadata": {},
   "outputs": [
    {
     "name": "stdout",
     "output_type": "stream",
     "text": [
      "Requirement already satisfied: numpy in c:\\programdata\\anaconda3\\envs\\geopp410\\lib\\site-packages (1.19.2)\n",
      "Requirement already satisfied: matplotlib in c:\\programdata\\anaconda3\\envs\\geopp410\\lib\\site-packages (3.3.2)\n",
      "Requirement already satisfied: cycler>=0.10 in c:\\programdata\\anaconda3\\envs\\geopp410\\lib\\site-packages (from matplotlib) (0.10.0)\n",
      "Requirement already satisfied: python-dateutil>=2.1 in c:\\programdata\\anaconda3\\envs\\geopp410\\lib\\site-packages (from matplotlib) (2.8.1)\n",
      "Requirement already satisfied: pillow>=6.2.0 in c:\\programdata\\anaconda3\\envs\\geopp410\\lib\\site-packages (from matplotlib) (7.2.0)\n",
      "Requirement already satisfied: certifi>=2020.06.20 in c:\\programdata\\anaconda3\\envs\\geopp410\\lib\\site-packages (from matplotlib) (2020.6.20)\n",
      "Requirement already satisfied: kiwisolver>=1.0.1 in c:\\programdata\\anaconda3\\envs\\geopp410\\lib\\site-packages (from matplotlib) (1.2.0)\n",
      "Requirement already satisfied: pyparsing!=2.0.4,!=2.1.2,!=2.1.6,>=2.0.3 in c:\\programdata\\anaconda3\\envs\\geopp410\\lib\\site-packages (from matplotlib) (2.4.7)\n",
      "Requirement already satisfied: six in c:\\programdata\\anaconda3\\envs\\geopp410\\lib\\site-packages (from cycler>=0.10->matplotlib) (1.15.0)\n"
     ]
    }
   ],
   "source": [
    "!pip install numpy matplotlib\n",
    "import numpy as np\n",
    "import matplotlib.pyplot as plt"
   ]
  },
  {
   "cell_type": "markdown",
   "metadata": {},
   "source": [
    "# Familiarize yourself with the Cole-Cole model\n",
    "Finish this function"
   ]
  },
  {
   "cell_type": "code",
   "execution_count": 6,
   "metadata": {},
   "outputs": [],
   "source": [
    "def ColeCole(rho_0, rho_infty, nu, tau, breath):\n",
    "    omega = nu * 2.*np.pi # convert Hz to angular frequency \n",
    "    rho_cc = rho_infty+(rho_0-rho_infty)/(1+(1j*omega*tau)**breath) # fix this line, 1j == sqrt(-1) \n",
    "    return rho_cc"
   ]
  },
  {
   "cell_type": "code",
   "execution_count": 44,
   "metadata": {},
   "outputs": [
    {
     "data": {
      "image/png": "[encoded data removed]",
      "text/plain": [
       "<Figure size 432x216 with 2 Axes>"
      ]
     },
     "metadata": {
      "needs_background": "light"
     },
     "output_type": "display_data"
    }
   ],
   "source": [
    "##########################\n",
    "# Cole-Cole parameters    #\n",
    "rho_0 =150            #\n",
    "rho_infty =100         #\n",
    "tau = .2                  #\n",
    "breath = .5              #\n",
    "##########################\n",
    "\n",
    "####################################################\n",
    "####### YOU DON'T NEED TO CHANGE ANYTHING BELOW HERE\n",
    "####################################################\n",
    "\n",
    "nu = np.exp(np.linspace(np.log(1e-1),np.log(1e3),100))\n",
    "\n",
    "# read in saved file\n",
    "rho1 = np.load(\"rho.npy\", allow_pickle=True)\n",
    "rho = ColeCole(rho_0, rho_infty, nu, tau, breath)\n",
    "\n",
    "fig = plt.figure(figsize=[6,3])\n",
    "ax1 = fig.add_axes([.2,.2,.6,.6])\n",
    "ax2 = ax1.twinx()\n",
    "ax2.set_yscale('log')\n",
    "ax1.set_yscale('log')\n",
    "ax1.set_xscale('log')\n",
    "    \n",
    "ax1.plot(nu, np.abs(1./rho), color='blue')\n",
    "ax1.plot(nu, np.abs(1./rho1), '--', color='blue')\n",
    "\n",
    "ax2.plot(nu, 1000.*np.abs(np.angle(1./rho)), color='orange')\n",
    "ax2.plot(nu, 1000.*np.abs(np.angle(1./rho1)), '--', color='orange')\n",
    "   \n",
    "ax2.set_ylabel(\"phase (mrad)\", color='orange') \n",
    "ax1.set_ylabel(\"$|\\sigma|$ (S/m)\", color='blue') \n",
    "ax1.set_xlabel(\"frequency (Hz)\", color='black') \n",
    "ax1.set_title(\"Cole-Cole model\") \n",
    "\n",
    "# uncomment to save pdf \n",
    "plt.savefig(\"sipfit.pdf\", transparent=True)\n",
    "\n",
    "plt.show()"
   ]
  },
  {
   "cell_type": "code",
   "execution_count": null,
   "metadata": {},
   "outputs": [],
   "source": []
  }
 ],
 "metadata": {
  "kernelspec": {
   "display_name": "Python 3",
   "language": "python",
   "name": "python3"
  },
  "language_info": {
   "codemirror_mode": {
    "name": "ipython",
    "version": 3
   },
   "file_extension": ".py",
   "mimetype": "text/x-python",
   "name": "python",
   "nbconvert_exporter": "python",
   "pygments_lexer": "ipython3",
   "version": "3.7.9"
  }
 },
 "nbformat": 4,
 "nbformat_minor": 4
}
